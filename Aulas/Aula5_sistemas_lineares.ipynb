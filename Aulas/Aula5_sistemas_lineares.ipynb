{
 "cells": [
  {
   "cell_type": "markdown",
   "metadata": {},
   "source": [
    "# Sistemas Lineares"
   ]
  },
  {
   "cell_type": "markdown",
   "metadata": {},
   "source": [
    "Considere as seguintes equações"
   ]
  },
  {
   "cell_type": "markdown",
   "metadata": {},
   "source": [
    "$$\\begin{array}{r}\n",
    "       x_{1} & + & 5 \\, x_{2} & - & 5.3 \\, x_{3} & = & y_{1} \\\\\n",
    "2.4 \\, x_{1} & - & 2 \\, x_{2} & + & x_{3} & = & y_{2} \\\\\n",
    "7.8 \\, x_{1} & - & 4.1 \\, x_{2} & + & 6.4 \\, x_{3} & = & y_{3} \\\\\n",
    "\\end{array} \\: .\n",
    "$$"
   ]
  },
  {
   "cell_type": "markdown",
   "metadata": {},
   "source": [
    "Repare que $y_i, i = 1, 2, 3, $ são [combinações lineares](https://en.wikipedia.org/wiki/Linear_combination) das variáveis $x_1, x_2, x_3$. Significa que as derivadas de $y_i, i = 1, 2, 3$, em relação a qualquer variável $x_1, x_2, x_3$ não depende das variáveis $x_1, x_2, x_3$. Por exemplo, a derivada de $y_2$ em relação a $x_3$ é igual a $1$.\n",
    "\n",
    "Esse sistema de equações pode ser escrito em notação matricial da seguinte maneira:"
   ]
  },
  {
   "cell_type": "markdown",
   "metadata": {},
   "source": [
    "$$\\mathbf{A}\\, \\mathbf{x} = \\mathbf{y} \\: ,$$\n",
    "\n",
    "em que"
   ]
  },
  {
   "cell_type": "markdown",
   "metadata": {},
   "source": [
    "$$\\mathbf{A} = \\left[\n",
    "\\begin{array}{ccc}\n",
    "1 & 5 & -5.3 \\\\\n",
    "2.4 & -2 & 1 \\\\\n",
    "7.8 & -4.1 & 6.4\n",
    "\\end{array}\n",
    "\\right] \\: ,$$"
   ]
  },
  {
   "cell_type": "markdown",
   "metadata": {},
   "source": [
    "$$\\mathbf{y} = \\left[\n",
    "\\begin{array}{c}\n",
    "y_{1} \\\\\n",
    "y_{2} \\\\\n",
    "y_{3}\n",
    "\\end{array}\n",
    "\\right]$$"
   ]
  },
  {
   "cell_type": "markdown",
   "metadata": {},
   "source": [
    "e\n",
    "\n",
    "$$\\mathbf{x} = \\left[\n",
    "\\begin{array}{c}\n",
    "x_{1} \\\\\n",
    "x_{2} \\\\\n",
    "x_{3}\n",
    "\\end{array}\n",
    "\\right] \\: .$$"
   ]
  },
  {
   "cell_type": "markdown",
   "metadata": {},
   "source": [
    "Essas equações são comumente chamadas de sistema de equações lineares ou simplesmente sistema lineares."
   ]
  },
  {
   "cell_type": "markdown",
   "metadata": {},
   "source": [
    "Os sistemas lineares são muito comuns em problemas geofísicos. Em geral, 𝐲 contém os dados geofísicos (ou dados observados), por exemplo, dados de anomalias de gravidade, dados de anomalias de campo total, tempos de transito de ondas sísmicas, componentes horizontais e verticais dos campos eletromagnéticos, etc. Então, 𝐲 é normalmente conhecido. Da mesma forma, a matriz 𝐀 também contém informações conhecidas (por exemplo, tempo, distância, profundidade até o topo de um corpo geológico, etc.). Por outro lado, o vetor 𝐱 geralmente contém as incógnitas, que são os parâmetros a serem estimados através da solução do sistema linear. Por exemplo, eles podem representar uma distribuição de momento magnético, distribuição de contraste de densidade, resistividade etc. "
   ]
  },
  {
   "cell_type": "markdown",
   "metadata": {},
   "source": [
    "Portanto, resolver um sistema linear significa determinar o vetor 𝐱 a partir dos valores de 𝐀 e 𝐲. A complexidade do algoritmo utilizado para resolver um sistema linear depende principalmente da estrutura da matriz 𝐀. O numpy.linalg fornece muitas rotinas de álgebra linear. As células abaixo mostram uma aplicação da rotina numpy.linalg.solve para a solução de um sistema linear."
   ]
  },
  {
   "cell_type": "code",
   "execution_count": 1,
   "metadata": {},
   "outputs": [],
   "source": [
    "import numpy as np\n",
    "import scipy as sp\n",
    "import matplotlib.pyplot as plt"
   ]
  },
  {
   "cell_type": "markdown",
   "metadata": {},
   "source": [
    "Seja `A` uma matriz diagonal definida como:"
   ]
  },
  {
   "cell_type": "code",
   "execution_count": 2,
   "metadata": {},
   "outputs": [],
   "source": [
    "np.random.seed(10)\n",
    "a = np.round(np.random.rand(3),decimals=3)"
   ]
  },
  {
   "cell_type": "code",
   "execution_count": 3,
   "metadata": {},
   "outputs": [
    {
     "data": {
      "text/plain": [
       "array([0.771, 0.021, 0.634])"
      ]
     },
     "execution_count": 3,
     "metadata": {},
     "output_type": "execute_result"
    }
   ],
   "source": [
    "a"
   ]
  },
  {
   "cell_type": "code",
   "execution_count": 4,
   "metadata": {},
   "outputs": [],
   "source": [
    "A = np.diag(a)"
   ]
  },
  {
   "cell_type": "code",
   "execution_count": 5,
   "metadata": {},
   "outputs": [
    {
     "name": "stdout",
     "output_type": "stream",
     "text": [
      "[[0.771 0.    0.   ]\n",
      " [0.    0.021 0.   ]\n",
      " [0.    0.    0.634]]\n"
     ]
    }
   ],
   "source": [
    "print(A)"
   ]
  },
  {
   "cell_type": "markdown",
   "metadata": {},
   "source": [
    "e `x` e `y` vetores definidos por:"
   ]
  },
  {
   "cell_type": "code",
   "execution_count": 6,
   "metadata": {},
   "outputs": [
    {
     "name": "stdout",
     "output_type": "stream",
     "text": [
      "[2.247 1.497 0.675]\n"
     ]
    }
   ],
   "source": [
    "x = np.round(np.random.rand(3),decimals=3)*3\n",
    "print(x)"
   ]
  },
  {
   "cell_type": "code",
   "execution_count": 7,
   "metadata": {},
   "outputs": [
    {
     "name": "stdout",
     "output_type": "stream",
     "text": [
      "[1.732437 0.031437 0.42795 ]\n"
     ]
    }
   ],
   "source": [
    "y = np.dot(A,x)\n",
    "print(y)"
   ]
  },
  {
   "cell_type": "markdown",
   "metadata": {},
   "source": [
    "Podemos calcular `x_calc` apenas dividindo cada elemento de `y`pelos elementos da diagonal de `A`"
   ]
  },
  {
   "cell_type": "code",
   "execution_count": 8,
   "metadata": {},
   "outputs": [
    {
     "name": "stdout",
     "output_type": "stream",
     "text": [
      "[2.247 1.497 0.675]\n"
     ]
    }
   ],
   "source": [
    "x_calc = y/np.diag(A)\n",
    "print(x_calc)"
   ]
  },
  {
   "cell_type": "code",
   "execution_count": 9,
   "metadata": {},
   "outputs": [
    {
     "name": "stdout",
     "output_type": "stream",
     "text": [
      "[1.732437 0.031437 0.42795 ]\n"
     ]
    }
   ],
   "source": [
    "y_calc = np.dot(A,x_calc)\n",
    "print(y_calc)"
   ]
  },
  {
   "cell_type": "code",
   "execution_count": 10,
   "metadata": {},
   "outputs": [
    {
     "data": {
      "text/plain": [
       "True"
      ]
     },
     "execution_count": 10,
     "metadata": {},
     "output_type": "execute_result"
    }
   ],
   "source": [
    "np.allclose(x,x_calc)"
   ]
  },
  {
   "cell_type": "code",
   "execution_count": 11,
   "metadata": {},
   "outputs": [
    {
     "data": {
      "text/plain": [
       "True"
      ]
     },
     "execution_count": 11,
     "metadata": {},
     "output_type": "execute_result"
    }
   ],
   "source": [
    "np.allclose(y,y_calc)"
   ]
  },
  {
   "cell_type": "markdown",
   "metadata": {},
   "source": [
    "### Matriz triangular"
   ]
  },
  {
   "cell_type": "markdown",
   "metadata": {},
   "source": [
    "Agora considere que `A` é uma matriz triangular inferior"
   ]
  },
  {
   "cell_type": "code",
   "execution_count": 12,
   "metadata": {},
   "outputs": [],
   "source": [
    "A = np.random.rand(3,3)\n",
    "A = np.tril(A)\n",
    "A = np.round(A,decimals=3)"
   ]
  },
  {
   "cell_type": "code",
   "execution_count": 13,
   "metadata": {},
   "outputs": [
    {
     "data": {
      "text/plain": [
       "array([[0.198, 0.   , 0.   ],\n",
       "       [0.088, 0.685, 0.   ],\n",
       "       [0.004, 0.512, 0.813]])"
      ]
     },
     "execution_count": 13,
     "metadata": {},
     "output_type": "execute_result"
    }
   ],
   "source": [
    "A"
   ]
  },
  {
   "cell_type": "code",
   "execution_count": 14,
   "metadata": {},
   "outputs": [],
   "source": [
    "# A = np.random.rand(3,3)\n",
    "# A = np.triu(A)\n",
    "# A = np.round(A,decimals=3)\n",
    "# A"
   ]
  },
  {
   "cell_type": "code",
   "execution_count": 15,
   "metadata": {},
   "outputs": [],
   "source": [
    "x = np.round(np.random.rand(3),decimals=3)*3\n",
    "y = np.dot(A,x)"
   ]
  },
  {
   "cell_type": "code",
   "execution_count": 16,
   "metadata": {},
   "outputs": [
    {
     "name": "stdout",
     "output_type": "stream",
     "text": [
      "[1.839 2.166 0.876]\n",
      "[0.364122 1.645542 1.828536]\n"
     ]
    }
   ],
   "source": [
    "print(x)\n",
    "print(y)"
   ]
  },
  {
   "cell_type": "markdown",
   "metadata": {},
   "source": [
    "A solução do sistema `Ax_calc = y_calc` é dada por:"
   ]
  },
  {
   "cell_type": "code",
   "execution_count": 17,
   "metadata": {},
   "outputs": [
    {
     "data": {
      "text/plain": [
       "array([1.839, 2.166, 0.876])"
      ]
     },
     "execution_count": 17,
     "metadata": {},
     "output_type": "execute_result"
    }
   ],
   "source": [
    "x_calc = np.linalg.solve(A,y)\n",
    "x_calc"
   ]
  },
  {
   "cell_type": "markdown",
   "metadata": {},
   "source": [
    "Para verificar se `x_calc` é uma solução para o sistema basta calcular o `y`produzido por `x_calc` e comparar os dois vetores."
   ]
  },
  {
   "cell_type": "code",
   "execution_count": 18,
   "metadata": {},
   "outputs": [
    {
     "data": {
      "text/plain": [
       "array([0.364122, 1.645542, 1.828536])"
      ]
     },
     "execution_count": 18,
     "metadata": {},
     "output_type": "execute_result"
    }
   ],
   "source": [
    "y_calc = np.dot(A,x_calc)\n",
    "y_calc"
   ]
  },
  {
   "cell_type": "code",
   "execution_count": 19,
   "metadata": {},
   "outputs": [
    {
     "data": {
      "text/plain": [
       "True"
      ]
     },
     "execution_count": 19,
     "metadata": {},
     "output_type": "execute_result"
    }
   ],
   "source": [
    "np.allclose(x,x_calc)"
   ]
  },
  {
   "cell_type": "code",
   "execution_count": 20,
   "metadata": {},
   "outputs": [
    {
     "data": {
      "text/plain": [
       "True"
      ]
     },
     "execution_count": 20,
     "metadata": {},
     "output_type": "execute_result"
    }
   ],
   "source": [
    "np.allclose(y,y_calc)"
   ]
  },
  {
   "cell_type": "markdown",
   "metadata": {},
   "source": [
    "### Matriz quadrada cheia"
   ]
  },
  {
   "cell_type": "markdown",
   "metadata": {},
   "source": [
    "Finalmente, vamos considerar que a matriz A é uma matriz quadrada cheia. A solução para o sistema linear que envolve uma matriz desse tipo é mais complexa e envolve a solução pormétodos numéricos. O numpy possui funções que calculam esse sistema diretamente (como o `numpy.linalg.solve`)."
   ]
  },
  {
   "cell_type": "markdown",
   "metadata": {},
   "source": [
    "Considere `A` uma matriz quadrada cheia dada por:"
   ]
  },
  {
   "cell_type": "code",
   "execution_count": 21,
   "metadata": {},
   "outputs": [
    {
     "data": {
      "text/plain": [
       "array([[0.918, 0.715, 0.543],\n",
       "       [0.142, 0.373, 0.674],\n",
       "       [0.442, 0.434, 0.618]])"
      ]
     },
     "execution_count": 21,
     "metadata": {},
     "output_type": "execute_result"
    }
   ],
   "source": [
    "A = np.random.rand(3,3)\n",
    "A = np.round(A,decimals=3)\n",
    "A"
   ]
  },
  {
   "cell_type": "code",
   "execution_count": 22,
   "metadata": {},
   "outputs": [],
   "source": [
    "x = np.round(np.random.rand(3),decimals=3)*3"
   ]
  },
  {
   "cell_type": "code",
   "execution_count": 23,
   "metadata": {},
   "outputs": [],
   "source": [
    "y = np.dot(A,x)"
   ]
  },
  {
   "cell_type": "code",
   "execution_count": 24,
   "metadata": {},
   "outputs": [],
   "source": [
    "x_calc = np.linalg.solve(A,y)"
   ]
  },
  {
   "cell_type": "code",
   "execution_count": 25,
   "metadata": {},
   "outputs": [],
   "source": [
    "y_calc = np.dot(A,x_calc)"
   ]
  },
  {
   "cell_type": "code",
   "execution_count": 26,
   "metadata": {},
   "outputs": [
    {
     "name": "stdout",
     "output_type": "stream",
     "text": [
      "[1.539 1.95  1.803]\n",
      "[1.539 1.95  1.803]\n"
     ]
    }
   ],
   "source": [
    "print(x)\n",
    "print(x_calc)"
   ]
  },
  {
   "cell_type": "code",
   "execution_count": 27,
   "metadata": {},
   "outputs": [
    {
     "name": "stdout",
     "output_type": "stream",
     "text": [
      "[3.786081 2.16111  2.640792]\n",
      "[3.786081 2.16111  2.640792]\n"
     ]
    }
   ],
   "source": [
    "print(y)\n",
    "print(y_calc)"
   ]
  },
  {
   "cell_type": "markdown",
   "metadata": {},
   "source": [
    "## Ajustar uma reta"
   ]
  },
  {
   "cell_type": "markdown",
   "metadata": {},
   "source": [
    "Considere um vetor de dados $\\mathbf d$ $N \\times 1$ cujo $i$-ésimo elemento $d_i$ é dado por:"
   ]
  },
  {
   "cell_type": "markdown",
   "metadata": {},
   "source": [
    "$$\n",
    "d_{i} = f(x_{i}) \\: ,\n",
    "$$"
   ]
  },
  {
   "cell_type": "markdown",
   "metadata": {},
   "source": [
    "em que $f(x)$ é uma função desconhecida qie depende da variável $x$. Além disso, considere que cada $d_i$ pode ser aproximado por: "
   ]
  },
  {
   "cell_type": "markdown",
   "metadata": {},
   "source": [
    "$$\n",
    "d_{i} \\approx a + b \\, x_{i} \\: ,\n",
    "$$"
   ]
  },
  {
   "cell_type": "markdown",
   "metadata": {},
   "source": [
    "em que $a$ e $b$ são constantes desconhecidas."
   ]
  },
  {
   "cell_type": "markdown",
   "metadata": {},
   "source": [
    "Dado um vetor de dados $\\mathbf d$ e um vetor $\\mathbf x$ contendo as coordenadas, vamos estimas as constantes $a$ e $b$ usando o `numpy.linalg.solve`"
   ]
  },
  {
   "cell_type": "markdown",
   "metadata": {},
   "source": [
    "$$\\begin{array}{r}\n",
    "       y_0 & = & a \\, + & b \\, x_{0}  \\\\\n",
    "y_1 & = & a \\, + & b \\, x_{1} \\\\\n",
    "\\end{array} \\: ,\n",
    "$$\n",
    "\n",
    "$$\\mathbf{y} = \\left[\n",
    "\\begin{array}{c}\n",
    "-4.8 \\\\\n",
    "-3.9 \n",
    "\\end{array}\n",
    "\\right] \\: .$$\n",
    "\n",
    "$$\\mathbf{x} = \\left[\n",
    "\\begin{array}{c}\n",
    "2 \\\\\n",
    "11 \n",
    "\\end{array}\n",
    "\\right] \\: .$$"
   ]
  },
  {
   "cell_type": "code",
   "execution_count": 29,
   "metadata": {},
   "outputs": [
    {
     "name": "stdout",
     "output_type": "stream",
     "text": [
      "[-4.8 -3.9]\n"
     ]
    }
   ],
   "source": [
    "# coordenadas do dado\n",
    "x = np.array([2., 11.])\n",
    "\n",
    "xmax = np.max(x)\n",
    "xmin = np.min(x)\n",
    "Dx = xmax - xmin\n",
    "\n",
    "# valores verdadeiros de a e b\n",
    "a = -5.\n",
    "b = 0.1\n",
    "\n",
    "# vetor de dados y\n",
    "d = a + b*x\n",
    "\n",
    "print(d)"
   ]
  },
  {
   "cell_type": "code",
   "execution_count": 30,
   "metadata": {},
   "outputs": [
    {
     "name": "stdout",
     "output_type": "stream",
     "text": [
      "[[ 1.  2.]\n",
      " [ 1. 11.]]\n"
     ]
    }
   ],
   "source": [
    "A = np.polynomial.polynomial.polyvander(x,1)\n",
    "print(A)"
   ]
  },
  {
   "cell_type": "code",
   "execution_count": 31,
   "metadata": {},
   "outputs": [],
   "source": [
    "p = np.linalg.solve(A,d)"
   ]
  },
  {
   "cell_type": "code",
   "execution_count": 32,
   "metadata": {},
   "outputs": [
    {
     "name": "stdout",
     "output_type": "stream",
     "text": [
      "[-5.   0.1]\n"
     ]
    }
   ],
   "source": [
    "print(p)"
   ]
  },
  {
   "cell_type": "markdown",
   "metadata": {},
   "source": [
    "# Mínimos quadrados"
   ]
  },
  {
   "cell_type": "markdown",
   "metadata": {},
   "source": [
    "Esse conteúdo foi baseado e traduzido do repositório https://nbviewer.jupyter.org/github/birocoles/Disciplina-metodos-computacionais/blob/master/Content/least_squares.ipynb."
   ]
  },
  {
   "cell_type": "markdown",
   "metadata": {},
   "source": [
    "Vamos considerar um conjunto de medidas $d_i, i = 0, 1, ..., N-1$, de uma determidada quantidade física. Essas medidas são normalmente chamadas **dados observados**. Vamos considerar também que cada dado observado $d_i$ pode ser aproximado por uma função $y_i, i = 0, 1, ..., N-1$, dada por:"
   ]
  },
  {
   "cell_type": "markdown",
   "metadata": {},
   "source": [
    "<a id='eq1'></a>\n",
    "$$\n",
    "y_{i} = a_{i0} \\, p_{0} + a_{i1} \\, p_{1} + \\cdots + a_{i(M-1)} \\, p_{(M-1)} \\: , \\tag{1}\n",
    "$$"
   ]
  },
  {
   "cell_type": "markdown",
   "metadata": {},
   "source": [
    "em que $a_{ij}$ são variáveis conhecidas e $p_j$ são variáveis desconhecidas, $i = 0, 1, ..., N-1, j = 0, 1, ..., M-1, N > M.$ $y_i$ é usualmente chamado de **dado predito**."
   ]
  },
  {
   "cell_type": "markdown",
   "metadata": {},
   "source": [
    "Então, considerando $N$ medidas, temos"
   ]
  },
  {
   "cell_type": "markdown",
   "metadata": {},
   "source": [
    "<a id='eq2'></a>\n",
    "$$\n",
    "\\begin{split}\n",
    "d_{0} &\\approx \\; &y_{0} &= \\: &a_{00} \\, p_{0} + &a_{01} \\, p_{1} + \\cdots + &a_{0(M-1)} \\, p_{M-1} \\\\\n",
    "d_{1} &\\approx &y_{1} &= &a_{10} \\, p_{0} + &a_{11} \\, p_{1} + \\cdots + &a_{1(M-1)} \\, p_{M-1} \\\\\n",
    "\\vdots & &\\vdots & & \\: \\vdots & \\: \\vdots & \\: \\vdots \\\\\n",
    "d_{N-1} &\\approx &y_{N-1} &= &a_{(N-1)0} \\, p_{0} + &a_{(N-1)1} \\, p_{1} + \\cdots + &a_{(N-1)(M-1)} \\, p_{M-1}\n",
    "\\end{split} \\tag{2}\n",
    "$$"
   ]
  },
  {
   "cell_type": "markdown",
   "metadata": {},
   "source": [
    "ou em notação matricial,"
   ]
  },
  {
   "cell_type": "markdown",
   "metadata": {},
   "source": [
    "<a id='eq3'></a>\n",
    "$$\n",
    "\\mathbf{d} \\approx \\mathbf{y} = \\mathbf{A} \\, \\mathbf{p} \\: , \\tag{3}\n",
    "$$"
   ]
  },
  {
   "cell_type": "markdown",
   "metadata": {},
   "source": [
    "em que"
   ]
  },
  {
   "cell_type": "markdown",
   "metadata": {},
   "source": [
    "<a id='eq4'></a>\n",
    "$$\n",
    "\\mathbf{p} = \n",
    "\\left[ \\begin{array}{c}\n",
    "p_{0} \\\\\n",
    "p_{1} \\\\\n",
    "\\vdots \\\\\n",
    "p_{M-1}\n",
    "\\end{array} \\right] \\: , \\tag{4}\n",
    "$$"
   ]
  },
  {
   "cell_type": "markdown",
   "metadata": {},
   "source": [
    "<a id='eq5'></a>\n",
    "$$\n",
    "\\mathbf{y} = \n",
    "\\left[ \\begin{array}{c}\n",
    "y_{0} \\\\\n",
    "y_{1} \\\\\n",
    "\\vdots \\\\\n",
    "y_{N-1}\n",
    "\\end{array} \\right] \\: , \\tag{5}\n",
    "$$"
   ]
  },
  {
   "cell_type": "markdown",
   "metadata": {},
   "source": [
    "<a id='eq6'></a>\n",
    "$$\n",
    "\\mathbf{d} = \n",
    "\\left[ \\begin{array}{c}\n",
    "d_{0} \\\\\n",
    "d_{1} \\\\\n",
    "\\vdots \\\\\n",
    "d_{N-1}\n",
    "\\end{array} \\right] \\tag{6}\n",
    "$$"
   ]
  },
  {
   "cell_type": "markdown",
   "metadata": {},
   "source": [
    "e\n",
    "\n",
    "<a id='eq7'></a>\n",
    "$$\n",
    "\\mathbf{A} = \n",
    "\\left[ \\begin{array}{cccc}\n",
    "a_{00} & a_{01} & \\cdots & a_{0(M-1)} \\\\\n",
    "a_{10} & a_{11} & \\cdots & a_{1(M-1)} \\\\\n",
    "\\vdots & \\vdots &        & \\vdots \\\\\n",
    "a_{(N-1)0} & a_{(N-1)1} & \\cdots & a_{(N-1)(M-1)}\n",
    "\\end{array} \\right] \\quad . \\tag{7}\n",
    "$$"
   ]
  },
  {
   "cell_type": "markdown",
   "metadata": {},
   "source": [
    "Os vetores $\\mathbf p$, $\\mathbf y$, e $\\mathbf d$ são normalmente chamados de vetor de parâmetros, vetor de dados preditos e vetor de dados observados, respectivamente. Observe que a determinação do vetor de parâmetros $\\mathbf p$ a partir dos de $\\mathbf d$ e $\\mathbf A$ requer a solução de um sistema linear em que $\\mathbf A$ não é quadrada."
   ]
  },
  {
   "cell_type": "markdown",
   "metadata": {},
   "source": [
    "Agora, considere o problema de determinar $\\mathbf p$ a partir dos dados observados $\\mathbf d$ e da matriz $N \\times M$ $\\mathbf A$. Matematicamente, este problema consiste em determinar um vetor $ \\mathbf p = \\mathbf{\\tilde{p}}$ produzindo um $\\mathbf y$ \"o mais próximo possível\" de $\\mathbf d$. Para resolver este problema, precisamos definir o que significa \"o mais próximo possível\". A noção de \"proximidade\" está intrinsecamente relacionada com a noção de \"distância\" e, consequentemente, com a noção de norma.\n"
   ]
  },
  {
   "cell_type": "markdown",
   "metadata": {},
   "source": [
    "Por exemplo, vamos considerar um vetor $\\mathbf r = \\mathbf d - \\mathbf y$, que é definido como a diferença entre os dados observados $\\mathbf d$ e os dados preditos $\\mathbf y$. O vetor $\\mathbf r$ é normalmente chamado de vetor de resíduos. O tamanho do vetor de resíduos pode ser determinado pela seguinte função escalar:"
   ]
  },
  {
   "cell_type": "markdown",
   "metadata": {},
   "source": [
    "<a id='eq8'></a>\n",
    "$$\n",
    "\\begin{split}\n",
    "\\| \\mathbf{r} \\|_{2} &= \\sqrt{\\mathbf{r}^{\\top}\\mathbf{r}} \\\\\n",
    "&= \\sqrt{\\sum \\limits_{i = 0}^{N-1} r_{i}^{2}}\n",
    "\\end{split} \\: , \\tag{8}\n",
    "$$"
   ]
  },
  {
   "cell_type": "markdown",
   "metadata": {},
   "source": [
    "em que $r_{i} = d_{i} - y_{i}$, $i = 0, \\dots, N-1$. Esta função é uma norma que quantifica a \"distância\" entre os vetores 𝐝 e 𝐲. É chamada **<a href=\"https://en.wikipedia.org/wiki/Norm_(mathematics)#Euclidean_norm\">Norma Euclidiana</a>** (ou **distância Euclidiana**). Note que esta função é igual a zero se $\\mathbf{d} = \\mathbf{y}$  e é maior que zero se $\\mathbf{d} \\ne \\mathbf{y}$.\n",
    "\n",
    "\n",
    "\n",
    "Portanto, o problema de determinar um vetor $\\mathbf{p} = \\tilde{\\mathbf{p}}$ \n",
    "produzindo um $\\mathbf{y}$ \"o mais próximo possível\" de $\\mathbf{d}$ pode ser pensado no problema de determinar um vetor de parâmetros $\\mathbf{p} = \\tilde{\\mathbf{p}}$ produzindo a norma mínima euclidiana da diferença entre os dados observados $\\mathbf{d}$ e os dados previstos $\\mathbf{y}$."
   ]
  },
  {
   "cell_type": "markdown",
   "metadata": {},
   "source": [
    "Na prática, ao invés de determinar o vetor $\\tilde{\\mathbf{p}}$ minimizando a norma euclidiana de $\\mathbf r$, determinamos o vetor $\\tilde{\\mathbf{p}}$ minimizando o **quadrado da norma Euclidiana** (ou **<a href=\"https://en.wikipedia.org/wiki/Euclidean_distance\">Quadrado da distância Euclidiana</a>** ou a norma $L_{2}$) de $\\mathbf{r}$, que é dada por:\n",
    "\n",
    "<a id='eq9'></a>\n",
    "$$\n",
    "\\begin{split}\n",
    "\\| \\mathbf{r} \\|_{2}^{2} &= \\mathbf{r}^{\\top}\\mathbf{r} \\\\\n",
    "&= \\sum \\limits_{i = 0}^{N-1} r_{i}^{2}\n",
    "\\end{split} \\: . \\tag{9}\n",
    "$$"
   ]
  },
  {
   "cell_type": "markdown",
   "metadata": {},
   "source": [
    "Observe que a norma Euclidiana quadrada de $\\mathbf{r}$ é uma função escalar, dependendo dos parâmentros desconhecidos $\\mathbf{p}$ e pode ser escrita da seguinte forma: \n",
    "\n",
    "<a id='eq10'></a>\n",
    "$$\n",
    "\\Phi(\\mathbf{p}) = \\left[ \\mathbf{d} - \\mathbf{A}\\mathbf{p} \\right]^{\\top}\\left[ \\mathbf{d} - \\mathbf{A}\\mathbf{p} \\right] \\: . \\tag{10}\n",
    "$$"
   ]
  },
  {
   "cell_type": "markdown",
   "metadata": {},
   "source": [
    "Essa função é chamada **função do ajuste** ou em inglês, **misfit function**. "
   ]
  },
  {
   "cell_type": "markdown",
   "metadata": {},
   "source": [
    "Considerando que existe apenas um vetor de parâmetros $\\tilde{\\mathbf{p}}$ que minimiza a função do ajuste $\\Phi(\\mathbf{p})$, podemos afirmar que\n",
    "\n",
    "<a id='eq11'></a>\n",
    "$$\n",
    "\\Phi(\\tilde{\\mathbf{p}} + \\Delta \\mathbf{p})\n",
    "\\begin{cases}\n",
    "\\gt \\Phi(\\tilde{\\mathbf{p}}) \\, , \\: \\text{if} \\:\\: \\| \\Delta \\mathbf{p}\\|_{2} \\ne 0 \\\\\n",
    "= \\Phi(\\tilde{\\mathbf{p}}) \\, , \\: \\text{if} \\:\\: \\| \\Delta \\mathbf{p}\\|_{2} = 0 \\\\\n",
    "\\end{cases} \\quad . \\tag{11}\n",
    "$$"
   ]
  },
  {
   "cell_type": "markdown",
   "metadata": {},
   "source": [
    "Podemos usar a função do ajuste para estimar o vetor de parÂmetros estimados $\\tilde{\\mathbf{p}}$. Para isso, podemos simplesmente calcular a função do ajuste produzida por um conjunto de vetores de parâmetros e escolher o vetor de parâmetros que produza o valor mínimo da função do ajuste."
   ]
  },
  {
   "cell_type": "markdown",
   "metadata": {},
   "source": [
    "Alternativamente, podemos estimar o vetor $\\tilde{\\mathbf{p}}$ explorando as derivadas da função ajuste com respeito às componentes  $p_{j}$, $j = 1, \\dots, M$, do vetor de parâmetros. Sabemos que, se a função do ajuste assume um valor mínimo em $\\tilde{\\mathbf{p}}$ , então seu gradiente avaliado em $\\tilde{\\mathbf{p}}$ equivale ao vetor nulo. Isso significa que"
   ]
  },
  {
   "cell_type": "markdown",
   "metadata": {},
   "source": [
    "<a id='eq12'></a>\n",
    "$$\n",
    "\\nabla \\Phi(\\tilde{\\mathbf{p}}) = \n",
    "\\left[ \\begin{array}{c}\n",
    "0 \\\\\n",
    "\\vdots \\\\\n",
    "0\n",
    "\\end{array} \\right] \\: , \\tag{12}\n",
    "$$"
   ]
  },
  {
   "cell_type": "markdown",
   "metadata": {},
   "source": [
    "em que"
   ]
  },
  {
   "cell_type": "markdown",
   "metadata": {},
   "source": [
    "<a id='eq13'></a>\n",
    "$$\n",
    "\\nabla \\Phi(\\mathbf{p}) = \n",
    "\\left[ \\begin{array}{c}\n",
    "\\dfrac{\\partial \\, \\Phi(\\mathbf{p})}{\\partial \\, p_{0}} \\\\\n",
    "\\vdots \\\\\n",
    "\\dfrac{\\partial \\, \\Phi(\\mathbf{p})}{\\partial \\, p_{M-1}} \n",
    "\\end{array} \\right] \\tag{13}\n",
    "$$"
   ]
  },
  {
   "cell_type": "markdown",
   "metadata": {},
   "source": [
    "é o gradiente de $\\Phi(\\mathbf{p})$ ([equação 10](#eq10)). "
   ]
  },
  {
   "cell_type": "markdown",
   "metadata": {},
   "source": [
    "O $j$ ésimo elemento do gradiente $\\nabla \\Phi(\\mathbf{p})$ ([equação 12](#eq12)) é dado por:\n",
    "\n",
    "<a id='eq14'></a>\n",
    "$$\n",
    "\\begin{split}\n",
    "\\dfrac{\\partial \\, \\Phi(\\mathbf{p})}{\\partial \\, p_{j}} &= \n",
    "\\Big \\{ \\dfrac{\\partial}{\\partial \\, p_{j}} \\left[ \\mathbf{d} - \\mathbf{A}\\mathbf{p} \\right] \\Big \\} \n",
    "^{\\top}\\left[ \\mathbf{d} - \\mathbf{A}\\mathbf{p} \\right] +\n",
    "\\left[ \\mathbf{d} - \\mathbf{A}\\mathbf{p} \\right]^{\\top}\n",
    "\\Big \\{ \\dfrac{\\partial}{\\partial \\, p_{j}} \\left[ \\mathbf{d} - \\mathbf{A}\\mathbf{p} \\right] \\Big \\} \\\\\n",
    "&= 2\\Big \\{ \\dfrac{\\partial}{\\partial \\, p_{j}} \\left[ \\mathbf{d} - \\mathbf{A}\\mathbf{p} \\right] \\Big \\} \n",
    "^{\\top}\\left[ \\mathbf{d} - \\mathbf{A}\\mathbf{p} \\right] \\\\\n",
    "&= 2 \\Big \\{ -\\mathbf{u}_{j}^{\\top}\\mathbf{A}^{\\top} \\Big \\} \\left[ \\mathbf{d} - \\mathbf{A}\\mathbf{p} \\right]\n",
    "\\end{split} \\: , \\tag{14}\n",
    "$$"
   ]
  },
  {
   "cell_type": "markdown",
   "metadata": {},
   "source": [
    "em que $\\mathbf{u}_{j}$ é um vetor $M \\times 1$ cujo $j$ ésimo elemento é igual a $1$ e todos os demais elementos são iguais a $0$. Substituindo $\\frac{\\partial \\, \\Phi(\\mathbf{p})}{\\partial \\, p_{j}}$ ([equação 14](#eq14)) no gradiente da ([equação 13](#eq13)), temos"
   ]
  },
  {
   "cell_type": "markdown",
   "metadata": {},
   "source": [
    "<a id='eq15'></a>\n",
    "$$\n",
    "\\nabla \\Phi(\\mathbf{p}) = -2 \\mathbf{A}^{\\top} \\left[ \\mathbf{d} - \\mathbf{A}\\mathbf{p} \\right] \\: . \\tag{15}\n",
    "$$"
   ]
  },
  {
   "cell_type": "markdown",
   "metadata": {},
   "source": [
    "Finalmente, avaliando o gradiente $\\nabla \\Phi(\\mathbf{p})$ ([equação 13](#eq13)) em $\\mathbf{p} = \\tilde{\\mathbf{p}}$ ([equação 11](#eq11)), temos"
   ]
  },
  {
   "cell_type": "markdown",
   "metadata": {},
   "source": [
    "<a id='eq16'></a>\n",
    "$$\n",
    "\\begin{align}\n",
    "\\nabla \\Phi(\\tilde{\\mathbf{p}}) &= -2 \\mathbf{A}^{\\top} \\left[ \\mathbf{d} - \\mathbf{A}\\tilde{\\mathbf{p}} \\right] \\tag{16a} \\\\\n",
    "\\mathbf{0} &= -\\mathbf{A}^{\\top}\\mathbf{d} + \\mathbf{A}^{\\top}\\mathbf{A}\\tilde{\\mathbf{p}} \\tag{16b}\n",
    "\\end{align}\n",
    "$$"
   ]
  },
  {
   "cell_type": "markdown",
   "metadata": {},
   "source": [
    "resultando em\n",
    "\n",
    "<a id='eq17'></a>\n",
    "$$\n",
    "\\left( \\mathbf{A}^{\\top}\\mathbf{A} \\right) \\tilde{\\mathbf{p}} = \\mathbf{A}^{\\top}\\mathbf{d} \\: . \\tag{17}\n",
    "$$"
   ]
  },
  {
   "cell_type": "markdown",
   "metadata": {},
   "source": [
    "Essas equações são comumente chamadas de **Estimador de Mínimos Quadrados**."
   ]
  },
  {
   "cell_type": "markdown",
   "metadata": {},
   "source": [
    "Note que, para determinar o vetor $\\tilde{\\mathbf{p}}$, é necessário resolver um sistema linear quadrado com a matriz simétrica $\\mathbf{A}^{\\top}\\mathbf{A}$ e um vetor independente  $\\mathbf{A}^{\\top}\\mathbf{d}$."
   ]
  },
  {
   "cell_type": "code",
   "execution_count": null,
   "metadata": {},
   "outputs": [],
   "source": []
  },
  {
   "cell_type": "markdown",
   "metadata": {},
   "source": [
    "### Ajustar uma reta  - matriz A não quadrada"
   ]
  },
  {
   "cell_type": "code",
   "execution_count": 35,
   "metadata": {},
   "outputs": [
    {
     "name": "stdout",
     "output_type": "stream",
     "text": [
      "[-5.  -4.9 -4.8 -4.7 -4.6 -4.5 -4.4 -4.3 -4.2 -4.1 -4.  -3.9 -3.8 -3.7\n",
      " -3.6 -3.5 -3.4 -3.3 -3.2 -3.1 -3.  -2.9 -2.8 -2.7 -2.6 -2.5 -2.4 -2.3\n",
      " -2.2 -2.1 -2. ]\n"
     ]
    }
   ],
   "source": [
    "# número de dados\n",
    "N = 31\n",
    "\n",
    "# coordenadas dos dados\n",
    "x = np.linspace(0,30,N)\n",
    "\n",
    "xmax = np.max(x)\n",
    "xmin = np.min(x)\n",
    "Dx = xmax - xmin\n",
    "\n",
    "# valores verdadeiros para a e b\n",
    "a = -5.\n",
    "b = 0.1\n",
    "\n",
    "# vetor de dados verdadeiros\n",
    "d = a + b*x\n",
    "\n",
    "print(d)"
   ]
  },
  {
   "cell_type": "code",
   "execution_count": 36,
   "metadata": {},
   "outputs": [
    {
     "name": "stdout",
     "output_type": "stream",
     "text": [
      "[[ 1.  1.  1.  1.  1.  1.  1.  1.  1.  1.  1.  1.  1.  1.  1.  1.  1.  1.\n",
      "   1.  1.  1.  1.  1.  1.  1.  1.  1.  1.  1.  1.  1.]\n",
      " [ 0.  1.  2.  3.  4.  5.  6.  7.  8.  9. 10. 11. 12. 13. 14. 15. 16. 17.\n",
      "  18. 19. 20. 21. 22. 23. 24. 25. 26. 27. 28. 29. 30.]]\n"
     ]
    }
   ],
   "source": [
    "#Gerar matriz A\n",
    "\n",
    "A = np.polynomial.polynomial.polyvander(x,1)\n",
    "print(A.T)"
   ]
  },
  {
   "cell_type": "code",
   "execution_count": 37,
   "metadata": {},
   "outputs": [],
   "source": [
    "ATA = np.dot(A.T,A)\n",
    "ATd = np.dot(A.T,d)"
   ]
  },
  {
   "cell_type": "code",
   "execution_count": 38,
   "metadata": {},
   "outputs": [],
   "source": [
    "p = np.linalg.solve(ATA,ATd)"
   ]
  },
  {
   "cell_type": "code",
   "execution_count": 39,
   "metadata": {},
   "outputs": [
    {
     "data": {
      "text/plain": [
       "array([-5. ,  0.1])"
      ]
     },
     "execution_count": 39,
     "metadata": {},
     "output_type": "execute_result"
    }
   ],
   "source": [
    "p"
   ]
  },
  {
   "cell_type": "code",
   "execution_count": 40,
   "metadata": {},
   "outputs": [],
   "source": [
    "d_predito = p[0] + p[1]*x\n"
   ]
  },
  {
   "cell_type": "code",
   "execution_count": 41,
   "metadata": {},
   "outputs": [
    {
     "data": {
      "text/plain": [
       "Text(0, 0.5, 'y')"
      ]
     },
     "execution_count": 41,
     "metadata": {},
     "output_type": "execute_result"
    },
    {
     "data": {
      "image/png": "[encoded data removed]",
      "text/plain": [
       "<Figure size 432x288 with 1 Axes>"
      ]
     },
     "metadata": {
      "needs_background": "light"
     },
     "output_type": "display_data"
    }
   ],
   "source": [
    "plt.plot(x,d,'-')\n",
    "plt.plot(x,d_predito,'o')\n",
    "plt.xlabel('x')\n",
    "plt.ylabel('y')"
   ]
  },
  {
   "cell_type": "code",
   "execution_count": null,
   "metadata": {},
   "outputs": [],
   "source": []
  },
  {
   "cell_type": "code",
   "execution_count": null,
   "metadata": {},
   "outputs": [],
   "source": []
  }
 ],
 "metadata": {
  "kernelspec": {
   "display_name": "Python 3",
   "language": "python",
   "name": "python3"
  },
  "language_info": {
   "codemirror_mode": {
    "name": "ipython",
    "version": 3
   },
   "file_extension": ".py",
   "mimetype": "text/x-python",
   "name": "python",
   "nbconvert_exporter": "python",
   "pygments_lexer": "ipython3",
   "version": "3.8.3"
  }
 },
 "nbformat": 4,
 "nbformat_minor": 4
}
