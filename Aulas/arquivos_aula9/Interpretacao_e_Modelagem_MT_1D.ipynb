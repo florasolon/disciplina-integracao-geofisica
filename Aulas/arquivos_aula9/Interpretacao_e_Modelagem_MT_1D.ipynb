{
 "cells": [
  {
   "cell_type": "markdown",
   "metadata": {},
   "source": [
    "# Interpretação e Modelagem direta MT 1-D"
   ]
  },
  {
   "cell_type": "markdown",
   "metadata": {},
   "source": [
    "### Este programa calcula o Tensor de impedância em função da frequencia para um modelo de terra 1-D e compara com um conjunto de dados observados fornecidos pelo usuário."
   ]
  },
  {
   "cell_type": "code",
   "execution_count": null,
   "metadata": {},
   "outputs": [],
   "source": [
    "#Importar bibliotecas\n",
    "\n",
    "import numpy as np\n",
    "from matplotlib import pyplot as plt\n",
    "from matplotlib import gridspec as gridspec"
   ]
  },
  {
   "cell_type": "code",
   "execution_count": null,
   "metadata": {},
   "outputs": [],
   "source": [
    "%matplotlib inline"
   ]
  },
  {
   "cell_type": "markdown",
   "metadata": {},
   "source": [
    "### Definindo a função dos parâmetros auxiliares e do Tensor de Impedância"
   ]
  },
  {
   "cell_type": "code",
   "execution_count": null,
   "metadata": {},
   "outputs": [],
   "source": [
    "def Auxiliars(freq, p0,h):\n",
    "    \n",
    "    ''' This function calculates the auxiliars W, gamma, R and\n",
    "    Impedance Tensor (Z). The entry parameters are frequency (freq) \n",
    "    and parameter vector (p0) in resistivity.\n",
    "    This function returns vectors gamma, w, e and Z which contains \n",
    "    the respectivity values for each layer of p0\n",
    "    \n",
    "    Inputs:\n",
    "    freq = frequency (Hz)\n",
    "    p0 = vector of resistivities'''\n",
    "    \n",
    "    M = len(h) # Number of layers\n",
    "    \n",
    "    Z = np.zeros(M, dtype = 'complex') \n",
    "    gamma = np.zeros(M, dtype = 'complex')\n",
    "    w = np.zeros(M, dtype = 'complex')\n",
    "    R = np.zeros(M, dtype = 'complex')\n",
    "    e = np.zeros(M, dtype = 'complex')\n",
    "\n",
    "    gamma = np.sqrt((freq*mu0*im)/p0)\n",
    "    w = gamma*p0\n",
    "    e = np.exp(-2.0*gamma*h)   # Elemento e[-1] não é utilizado\n",
    "    \n",
    "    # Impedance at last layer\n",
    "    \n",
    "    gamma[-1] = np.sqrt((freq*mu0*im)/p0[-1])\n",
    "    w[-1] = gamma[-1]*p0[-1]\n",
    "    Z[-1] = w[-1]\n",
    "    e[-1] = 0.0 + 0.0j\n",
    "        \n",
    "    # Impedance at each layer\n",
    "    for i in range(M-1):\n",
    "        j = M-i-2\n",
    "        R[j] = (w[j] - Z[j+1])/(w[j] + Z[j+1])\n",
    "        Z[j] = w[j] * ((1.0-R[j]*e[j])/(1.0+R[j]*e[j]))\n",
    " \n",
    "    return gamma, w, R, e, Z\n",
    "\n",
    "def Impedance_Tensor(omega, p0,h):\n",
    "    '''This function calculates the impedance tensor for a given vector of frequencies (omega) and a given vector of resitivities (p0)\n",
    "    \n",
    "    Inputs:\n",
    "    \n",
    "    omega = vector of frequencies\n",
    "    p0 = vector of resistivities'''\n",
    "    N = len(omega)\n",
    "    Zcalc = np.zeros(N, dtype = 'complex')\n",
    "    \n",
    "    for k in range(N):\n",
    "        freq = omega[k]\n",
    "        gamma, w, R, e, Z = Auxiliars(freq, p0,h)\n",
    "        Zcalc[k] = Z[0]\n",
    "    \n",
    "    return Zcalc"
   ]
  },
  {
   "cell_type": "markdown",
   "metadata": {},
   "source": [
    "## Abre o arquivo de dados"
   ]
  },
  {
   "cell_type": "code",
   "execution_count": null,
   "metadata": {},
   "outputs": [],
   "source": [
    "period, rhoap_obs, phi_obs, Zobsreal, Zobsimag = np.loadtxt(\"data.txt\",skiprows=1, delimiter=\" \",unpack=True)\n",
    "\n",
    "#freq, rhoap_obs, phi_obs = np.loadtxt(\"SF01Xa.txt\",skiprows=3, delimiter=\" \",unpack=True,usecols=(0,1,3))\n",
    "#period = 1/freq"
   ]
  },
  {
   "cell_type": "markdown",
   "metadata": {},
   "source": [
    "### Plota os dados"
   ]
  },
  {
   "cell_type": "code",
   "execution_count": null,
   "metadata": {},
   "outputs": [],
   "source": [
    "plt.figure(figsize=(5,8))\n",
    "\n",
    "plt.subplot(2,1,1)\n",
    "plt.plot(period,rhoap_obs,'ro')\n",
    "plt.xscale('log')\n",
    "plt.yscale('log')\n",
    "plt.ylim([10,10000.])\n",
    "plt.xlim([np.min(period),np.max(period)])\n",
    "plt.ylabel('Apparent Resistivity (ohm.m)',fontsize='x-large')\n",
    "\n",
    "plt.subplot(2,1,2)\n",
    "plt.plot(period,phi_obs,'ro')\n",
    "plt.xscale('log')\n",
    "plt.xlabel('Period (sec)',fontsize='x-large')\n",
    "plt.ylabel('Phase (degree)',fontsize='x-large')\n",
    "plt.ylim([0,90])\n",
    "\n",
    "plt.show()"
   ]
  },
  {
   "cell_type": "markdown",
   "metadata": {},
   "source": [
    "### Modelo de terra 1-D"
   ]
  },
  {
   "cell_type": "markdown",
   "metadata": {},
   "source": [
    "#### Defina o vetor h (espessuras das camadas) e o vetor p0 (resistividades das camadas)"
   ]
  },
  {
   "cell_type": "code",
   "execution_count": null,
   "metadata": {},
   "outputs": [],
   "source": [
    "h = np.array([100., 100., 100., 100., 100., 100.], dtype = 'float') # Vetor de espessuras (m)\n",
    "p0 = np.array([100.0, 100., 100., 100.0, 100.0, 100.], dtype = 'float') # Vetor de resistividades (Ohm.m)"
   ]
  },
  {
   "cell_type": "code",
   "execution_count": null,
   "metadata": {},
   "outputs": [],
   "source": [
    "## DEFINIÇAO DE PARAMETROS\n",
    "\n",
    "# permeabilidade magnetica\n",
    "mu0 = 4*np.pi*1E-7 \n",
    "\n",
    "# Frequência (Hz)\n",
    "f = 1./period\n",
    "omega = 2.*f*np.pi # frequencia angular\n",
    "\n",
    "N = len(omega) # Número de dados\n",
    "M = len(p0) # Número de parâmetros\n",
    "z0 = 0  # Profundidade do topo da primeira camada\n",
    "im = (0.0+1.0j) #número imaginário"
   ]
  },
  {
   "cell_type": "markdown",
   "metadata": {},
   "source": [
    "### Cálculo do Tensor de Impedância"
   ]
  },
  {
   "cell_type": "code",
   "execution_count": null,
   "metadata": {},
   "outputs": [],
   "source": [
    "Zcalc = Impedance_Tensor(omega,p0,h)"
   ]
  },
  {
   "cell_type": "markdown",
   "metadata": {},
   "source": [
    "### Cálculo da resistividade aparente e fase"
   ]
  },
  {
   "cell_type": "code",
   "execution_count": null,
   "metadata": {},
   "outputs": [],
   "source": [
    "rhoap = (((omega*mu0)**-1.0)*(abs(Zcalc)**2))\n",
    "phase = np.arctan(Zcalc.imag/Zcalc.real)\n",
    "phi = (phase*180)/np.pi"
   ]
  },
  {
   "cell_type": "markdown",
   "metadata": {},
   "source": [
    "### Plot das curvas de resitividade aparente e fase"
   ]
  },
  {
   "cell_type": "code",
   "execution_count": null,
   "metadata": {},
   "outputs": [],
   "source": [
    "#Calculation of depths for each interface\n",
    "\n",
    "interfaces = np.zeros(M)\n",
    "for l in range(M):\n",
    "    interfaces[l] = z0 + sum(h[:l])"
   ]
  },
  {
   "cell_type": "code",
   "execution_count": null,
   "metadata": {},
   "outputs": [],
   "source": [
    "fig = plt.figure(figsize=(14,10))\n",
    "gs2 = gridspec.GridSpec(3, 3, width_ratios=[2, 4, 4])\n",
    "gs2.update(left=5, right=6, hspace=0.5)\n",
    "\n",
    "ax1 = plt.subplot(gs2[:, :-2])\n",
    "ax1.step(p0, interfaces, 'r')\n",
    "plt.xscale('log')\n",
    "ax1.set_xlabel('Resistivity (Ohm.m)',fontsize='x-large')\n",
    "ax1.set_ylabel('Depth(m)',fontsize='x-large')\n",
    "ax1.set_xlim((10,10000))\n",
    "ax1.set_ylim((np.max(interfaces)+100, 0))\n",
    "ax1.set_title('1-D Resistivity Model',fontsize='x-large')\n",
    "ax1.tick_params(labelsize=14)\n",
    "\n",
    "ax2 = plt.subplot(gs2[:-1, -2])\n",
    "ax2.plot(period, rhoap_obs,'ro', label='observed')\n",
    "ax2.plot(period, rhoap,'r-', label='calculated')\n",
    "plt.legend(fontsize='x-large',numpoints = 1)\n",
    "plt.xscale('log')\n",
    "plt.yscale('log')\n",
    "plt.ylim([10,10000.])\n",
    "plt.xlim([np.min(period),np.max(period)])\n",
    "plt.xlabel('Period (sec)',fontsize='x-large')\n",
    "plt.ylabel('Apparent Resistivity (ohm.m)',fontsize='x-large')\n",
    "ax2.tick_params(labelsize=14)\n",
    "\n",
    "ax3 = plt.subplot(gs2[-1, -2])\n",
    "ax3.plot(period,phi_obs, 'ro', label='observed')\n",
    "ax3.plot(period,phi, 'r-', label='calculated')\n",
    "plt.legend(fontsize='x-large',numpoints = 1)\n",
    "plt.xscale('log')\n",
    "plt.xlabel('Period (sec)',fontsize='x-large')\n",
    "plt.ylabel('Phase (degree)',fontsize='x-large')\n",
    "plt.ylim([0,90])\n",
    "ax3.tick_params(labelsize=14)"
   ]
  },
  {
   "cell_type": "code",
   "execution_count": null,
   "metadata": {},
   "outputs": [],
   "source": []
  }
 ],
 "metadata": {
  "kernelspec": {
   "display_name": "Python 3",
   "language": "python",
   "name": "python3"
  },
  "language_info": {
   "codemirror_mode": {
    "name": "ipython",
    "version": 3
   },
   "file_extension": ".py",
   "mimetype": "text/x-python",
   "name": "python",
   "nbconvert_exporter": "python",
   "pygments_lexer": "ipython3",
   "version": "3.8.3"
  }
 },
 "nbformat": 4,
 "nbformat_minor": 1
}
